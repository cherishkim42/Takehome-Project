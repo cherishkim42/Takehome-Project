{
 "cells": [
  {
   "cell_type": "code",
   "execution_count": 5,
   "metadata": {},
   "outputs": [
    {
     "name": "stdout",
     "output_type": "stream",
     "text": [
      "\u001b[31mseattle-crime-stats-by-1990-census-tract-1996-2007.csv\u001b[m\u001b[m*\r\n",
      "\u001b[31mseattle-crime-stats-by-police-precinct-2008-present.csv\u001b[m\u001b[m*\r\n",
      "\u001b[31msocrata_metadata_seattle-crime-stats-by-1990-census-tract-1996-2007.json\u001b[m\u001b[m*\r\n",
      "\u001b[31msocrata_metadata_seattle-crime-stats-by-police-precinct-2008-present.json\u001b[m\u001b[m*\r\n"
     ]
    }
   ],
   "source": [
    "ls"
   ]
  },
  {
   "cell_type": "code",
   "execution_count": 54,
   "metadata": {},
   "outputs": [],
   "source": [
    "from scipy import stats\n",
    "import math\n",
    "import csv\n",
    "import re\n",
    "import numpy as np\n",
    "import pandas as pd\n",
    "import seaborn as sns\n",
    "import matplotlib.pyplot as plt\n",
    "sns.set(rc={'figure.figsize':(11.7,8.27)})"
   ]
  },
  {
   "cell_type": "code",
   "execution_count": 8,
   "metadata": {},
   "outputs": [
    {
     "data": {
      "text/html": [
       "<div>\n",
       "<style scoped>\n",
       "    .dataframe tbody tr th:only-of-type {\n",
       "        vertical-align: middle;\n",
       "    }\n",
       "\n",
       "    .dataframe tbody tr th {\n",
       "        vertical-align: top;\n",
       "    }\n",
       "\n",
       "    .dataframe thead th {\n",
       "        text-align: right;\n",
       "    }\n",
       "</style>\n",
       "<table border=\"1\" class=\"dataframe\">\n",
       "  <thead>\n",
       "    <tr style=\"text-align: right;\">\n",
       "      <th></th>\n",
       "      <th>Report_Year</th>\n",
       "      <th>Census_Tract_1990</th>\n",
       "      <th>Crime_Type</th>\n",
       "      <th>Report_Year_Total</th>\n",
       "    </tr>\n",
       "  </thead>\n",
       "  <tbody>\n",
       "    <tr>\n",
       "      <th>0</th>\n",
       "      <td>1996</td>\n",
       "      <td>1.0</td>\n",
       "      <td>Aggravated Assault</td>\n",
       "      <td>11</td>\n",
       "    </tr>\n",
       "    <tr>\n",
       "      <th>1</th>\n",
       "      <td>1996</td>\n",
       "      <td>1.0</td>\n",
       "      <td>Homicide</td>\n",
       "      <td>0</td>\n",
       "    </tr>\n",
       "    <tr>\n",
       "      <th>2</th>\n",
       "      <td>1996</td>\n",
       "      <td>1.0</td>\n",
       "      <td>NonResidential Burglary</td>\n",
       "      <td>41</td>\n",
       "    </tr>\n",
       "    <tr>\n",
       "      <th>3</th>\n",
       "      <td>1996</td>\n",
       "      <td>1.0</td>\n",
       "      <td>Property Crimes Total</td>\n",
       "      <td>430</td>\n",
       "    </tr>\n",
       "    <tr>\n",
       "      <th>4</th>\n",
       "      <td>1996</td>\n",
       "      <td>1.0</td>\n",
       "      <td>Rape</td>\n",
       "      <td>2</td>\n",
       "    </tr>\n",
       "  </tbody>\n",
       "</table>\n",
       "</div>"
      ],
      "text/plain": [
       "   Report_Year  Census_Tract_1990               Crime_Type  Report_Year_Total\n",
       "0         1996                1.0       Aggravated Assault                 11\n",
       "1         1996                1.0                 Homicide                  0\n",
       "2         1996                1.0  NonResidential Burglary                 41\n",
       "3         1996                1.0    Property Crimes Total                430\n",
       "4         1996                1.0                     Rape                  2"
      ]
     },
     "execution_count": 8,
     "metadata": {},
     "output_type": "execute_result"
    }
   ],
   "source": [
    "df_1 = pd.read_csv('seattle-crime-stats-by-1990-census-tract-1996-2007.csv')\n",
    "df_1.head()"
   ]
  },
  {
   "cell_type": "code",
   "execution_count": 10,
   "metadata": {},
   "outputs": [
    {
     "data": {
      "text/html": [
       "<div>\n",
       "<style scoped>\n",
       "    .dataframe tbody tr th:only-of-type {\n",
       "        vertical-align: middle;\n",
       "    }\n",
       "\n",
       "    .dataframe tbody tr th {\n",
       "        vertical-align: top;\n",
       "    }\n",
       "\n",
       "    .dataframe thead th {\n",
       "        text-align: right;\n",
       "    }\n",
       "</style>\n",
       "<table border=\"1\" class=\"dataframe\">\n",
       "  <thead>\n",
       "    <tr style=\"text-align: right;\">\n",
       "      <th></th>\n",
       "      <th>Report_Year</th>\n",
       "      <th>Crime_Type</th>\n",
       "      <th>Report_Year_Total</th>\n",
       "    </tr>\n",
       "  </thead>\n",
       "  <tbody>\n",
       "    <tr>\n",
       "      <th>0</th>\n",
       "      <td>1996</td>\n",
       "      <td>Aggravated Assault</td>\n",
       "      <td>11</td>\n",
       "    </tr>\n",
       "    <tr>\n",
       "      <th>1</th>\n",
       "      <td>1996</td>\n",
       "      <td>Homicide</td>\n",
       "      <td>0</td>\n",
       "    </tr>\n",
       "    <tr>\n",
       "      <th>2</th>\n",
       "      <td>1996</td>\n",
       "      <td>NonResidential Burglary</td>\n",
       "      <td>41</td>\n",
       "    </tr>\n",
       "    <tr>\n",
       "      <th>3</th>\n",
       "      <td>1996</td>\n",
       "      <td>Property Crimes Total</td>\n",
       "      <td>430</td>\n",
       "    </tr>\n",
       "    <tr>\n",
       "      <th>4</th>\n",
       "      <td>1996</td>\n",
       "      <td>Rape</td>\n",
       "      <td>2</td>\n",
       "    </tr>\n",
       "  </tbody>\n",
       "</table>\n",
       "</div>"
      ],
      "text/plain": [
       "   Report_Year               Crime_Type  Report_Year_Total\n",
       "0         1996       Aggravated Assault                 11\n",
       "1         1996                 Homicide                  0\n",
       "2         1996  NonResidential Burglary                 41\n",
       "3         1996    Property Crimes Total                430\n",
       "4         1996                     Rape                  2"
      ]
     },
     "execution_count": 10,
     "metadata": {},
     "output_type": "execute_result"
    }
   ],
   "source": [
    "df_1 = df_1.drop(columns=['Census_Tract_1990'])\n",
    "df_1.head()"
   ]
  },
  {
   "cell_type": "code",
   "execution_count": 50,
   "metadata": {},
   "outputs": [
    {
     "data": {
      "text/html": [
       "<div>\n",
       "<style scoped>\n",
       "    .dataframe tbody tr th:only-of-type {\n",
       "        vertical-align: middle;\n",
       "    }\n",
       "\n",
       "    .dataframe tbody tr th {\n",
       "        vertical-align: top;\n",
       "    }\n",
       "\n",
       "    .dataframe thead th {\n",
       "        text-align: right;\n",
       "    }\n",
       "</style>\n",
       "<table border=\"1\" class=\"dataframe\">\n",
       "  <thead>\n",
       "    <tr style=\"text-align: right;\">\n",
       "      <th></th>\n",
       "      <th>Police Beat</th>\n",
       "      <th>CRIME_TYPE</th>\n",
       "      <th>CRIME_DESCRIPTION</th>\n",
       "      <th>STAT_VALUE</th>\n",
       "      <th>REPORT_DATE</th>\n",
       "      <th>Sector</th>\n",
       "      <th>Precinct</th>\n",
       "      <th>Row_Value_ID</th>\n",
       "    </tr>\n",
       "  </thead>\n",
       "  <tbody>\n",
       "    <tr>\n",
       "      <th>0</th>\n",
       "      <td>R2</td>\n",
       "      <td>Rape</td>\n",
       "      <td>Rape</td>\n",
       "      <td>1</td>\n",
       "      <td>2014-04-30T00:00:00.000</td>\n",
       "      <td>R</td>\n",
       "      <td>SE</td>\n",
       "      <td>27092</td>\n",
       "    </tr>\n",
       "    <tr>\n",
       "      <th>1</th>\n",
       "      <td>K2</td>\n",
       "      <td>Assault</td>\n",
       "      <td>Assault</td>\n",
       "      <td>5</td>\n",
       "      <td>2014-04-30T00:00:00.000</td>\n",
       "      <td>K</td>\n",
       "      <td>W</td>\n",
       "      <td>26506</td>\n",
       "    </tr>\n",
       "    <tr>\n",
       "      <th>2</th>\n",
       "      <td>M2</td>\n",
       "      <td>Homicide</td>\n",
       "      <td>Homicide</td>\n",
       "      <td>1</td>\n",
       "      <td>2014-04-30T00:00:00.000</td>\n",
       "      <td>M</td>\n",
       "      <td>W</td>\n",
       "      <td>27567</td>\n",
       "    </tr>\n",
       "    <tr>\n",
       "      <th>3</th>\n",
       "      <td>C3</td>\n",
       "      <td>Robbery</td>\n",
       "      <td>Robbery</td>\n",
       "      <td>2</td>\n",
       "      <td>2014-04-30T00:00:00.000</td>\n",
       "      <td>C</td>\n",
       "      <td>E</td>\n",
       "      <td>26225</td>\n",
       "    </tr>\n",
       "    <tr>\n",
       "      <th>4</th>\n",
       "      <td>E2</td>\n",
       "      <td>Motor Vehicle Theft</td>\n",
       "      <td>Vehicle Theft is theft of a car, truck, motorc...</td>\n",
       "      <td>7</td>\n",
       "      <td>2014-04-30T00:00:00.000</td>\n",
       "      <td>E</td>\n",
       "      <td>E</td>\n",
       "      <td>26368</td>\n",
       "    </tr>\n",
       "  </tbody>\n",
       "</table>\n",
       "</div>"
      ],
      "text/plain": [
       "  Police Beat           CRIME_TYPE  \\\n",
       "0          R2                 Rape   \n",
       "1          K2              Assault   \n",
       "2          M2             Homicide   \n",
       "3          C3              Robbery   \n",
       "4          E2  Motor Vehicle Theft   \n",
       "\n",
       "                                   CRIME_DESCRIPTION  STAT_VALUE  \\\n",
       "0                                               Rape           1   \n",
       "1                                            Assault           5   \n",
       "2                                           Homicide           1   \n",
       "3                                            Robbery           2   \n",
       "4  Vehicle Theft is theft of a car, truck, motorc...           7   \n",
       "\n",
       "               REPORT_DATE Sector Precinct  Row_Value_ID  \n",
       "0  2014-04-30T00:00:00.000      R       SE         27092  \n",
       "1  2014-04-30T00:00:00.000      K        W         26506  \n",
       "2  2014-04-30T00:00:00.000      M        W         27567  \n",
       "3  2014-04-30T00:00:00.000      C        E         26225  \n",
       "4  2014-04-30T00:00:00.000      E        E         26368  "
      ]
     },
     "execution_count": 50,
     "metadata": {},
     "output_type": "execute_result"
    }
   ],
   "source": [
    "df_2 = pd.read_csv('seattle-crime-stats-by-police-precinct-2008-present.csv')\n",
    "df_2.head()"
   ]
  },
  {
   "cell_type": "code",
   "execution_count": 51,
   "metadata": {},
   "outputs": [
    {
     "data": {
      "text/html": [
       "<div>\n",
       "<style scoped>\n",
       "    .dataframe tbody tr th:only-of-type {\n",
       "        vertical-align: middle;\n",
       "    }\n",
       "\n",
       "    .dataframe tbody tr th {\n",
       "        vertical-align: top;\n",
       "    }\n",
       "\n",
       "    .dataframe thead th {\n",
       "        text-align: right;\n",
       "    }\n",
       "</style>\n",
       "<table border=\"1\" class=\"dataframe\">\n",
       "  <thead>\n",
       "    <tr style=\"text-align: right;\">\n",
       "      <th></th>\n",
       "      <th>CRIME_TYPE</th>\n",
       "      <th>REPORT_DATE</th>\n",
       "    </tr>\n",
       "  </thead>\n",
       "  <tbody>\n",
       "    <tr>\n",
       "      <th>0</th>\n",
       "      <td>Rape</td>\n",
       "      <td>2014-04-30T00:00:00.000</td>\n",
       "    </tr>\n",
       "    <tr>\n",
       "      <th>1</th>\n",
       "      <td>Assault</td>\n",
       "      <td>2014-04-30T00:00:00.000</td>\n",
       "    </tr>\n",
       "    <tr>\n",
       "      <th>2</th>\n",
       "      <td>Homicide</td>\n",
       "      <td>2014-04-30T00:00:00.000</td>\n",
       "    </tr>\n",
       "    <tr>\n",
       "      <th>3</th>\n",
       "      <td>Robbery</td>\n",
       "      <td>2014-04-30T00:00:00.000</td>\n",
       "    </tr>\n",
       "    <tr>\n",
       "      <th>4</th>\n",
       "      <td>Motor Vehicle Theft</td>\n",
       "      <td>2014-04-30T00:00:00.000</td>\n",
       "    </tr>\n",
       "  </tbody>\n",
       "</table>\n",
       "</div>"
      ],
      "text/plain": [
       "            CRIME_TYPE              REPORT_DATE\n",
       "0                 Rape  2014-04-30T00:00:00.000\n",
       "1              Assault  2014-04-30T00:00:00.000\n",
       "2             Homicide  2014-04-30T00:00:00.000\n",
       "3              Robbery  2014-04-30T00:00:00.000\n",
       "4  Motor Vehicle Theft  2014-04-30T00:00:00.000"
      ]
     },
     "execution_count": 51,
     "metadata": {},
     "output_type": "execute_result"
    }
   ],
   "source": [
    "df_2 = df_2.drop(columns=['Police Beat', 'CRIME_DESCRIPTION', 'STAT_VALUE', 'Sector', 'Precinct', 'Row_Value_ID'])\n",
    "df_2.head()"
   ]
  },
  {
   "cell_type": "code",
   "execution_count": 48,
   "metadata": {},
   "outputs": [
    {
     "data": {
      "text/plain": [
       "dtype('O')"
      ]
     },
     "execution_count": 48,
     "metadata": {},
     "output_type": "execute_result"
    }
   ],
   "source": [
    "df_2['CRIME_TYPE'].dtype"
   ]
  },
  {
   "cell_type": "code",
   "execution_count": 46,
   "metadata": {},
   "outputs": [
    {
     "data": {
      "text/plain": [
       "dtype('O')"
      ]
     },
     "execution_count": 46,
     "metadata": {},
     "output_type": "execute_result"
    }
   ],
   "source": [
    "df_2['REPORT_DATE'].dtype"
   ]
  },
  {
   "cell_type": "code",
   "execution_count": 86,
   "metadata": {},
   "outputs": [
    {
     "data": {
      "text/html": [
       "<div>\n",
       "<style scoped>\n",
       "    .dataframe tbody tr th:only-of-type {\n",
       "        vertical-align: middle;\n",
       "    }\n",
       "\n",
       "    .dataframe tbody tr th {\n",
       "        vertical-align: top;\n",
       "    }\n",
       "\n",
       "    .dataframe thead th {\n",
       "        text-align: right;\n",
       "    }\n",
       "</style>\n",
       "<table border=\"1\" class=\"dataframe\">\n",
       "  <thead>\n",
       "    <tr style=\"text-align: right;\">\n",
       "      <th></th>\n",
       "      <th>CRIME_TYPE</th>\n",
       "      <th>REPORT_DATE</th>\n",
       "    </tr>\n",
       "  </thead>\n",
       "  <tbody>\n",
       "    <tr>\n",
       "      <th>0</th>\n",
       "      <td>Rape</td>\n",
       "      <td>2014-04-30T00:00:00.000</td>\n",
       "    </tr>\n",
       "    <tr>\n",
       "      <th>1</th>\n",
       "      <td>Assault</td>\n",
       "      <td>2014-04-30T00:00:00.000</td>\n",
       "    </tr>\n",
       "    <tr>\n",
       "      <th>2</th>\n",
       "      <td>Homicide</td>\n",
       "      <td>2014-04-30T00:00:00.000</td>\n",
       "    </tr>\n",
       "    <tr>\n",
       "      <th>3</th>\n",
       "      <td>Robbery</td>\n",
       "      <td>2014-04-30T00:00:00.000</td>\n",
       "    </tr>\n",
       "    <tr>\n",
       "      <th>4</th>\n",
       "      <td>Motor Vehicle Theft</td>\n",
       "      <td>2014-04-30T00:00:00.000</td>\n",
       "    </tr>\n",
       "  </tbody>\n",
       "</table>\n",
       "</div>"
      ],
      "text/plain": [
       "            CRIME_TYPE              REPORT_DATE\n",
       "0                 Rape  2014-04-30T00:00:00.000\n",
       "1              Assault  2014-04-30T00:00:00.000\n",
       "2             Homicide  2014-04-30T00:00:00.000\n",
       "3              Robbery  2014-04-30T00:00:00.000\n",
       "4  Motor Vehicle Theft  2014-04-30T00:00:00.000"
      ]
     },
     "execution_count": 86,
     "metadata": {},
     "output_type": "execute_result"
    }
   ],
   "source": [
    "#https://stackoverflow.com/questions/33957720/how-to-convert-column-with-dtype-as-object-to-string-in-pandas-dataframe\n",
    "df_2['CRIME_TYPE'] = df_2['CRIME_TYPE'].astype('str')\n",
    "df_2['REPORT_DATE'] = df_2['REPORT_DATE'].astype('str')\n",
    "df_2.head()"
   ]
  },
  {
   "cell_type": "code",
   "execution_count": 56,
   "metadata": {},
   "outputs": [
    {
     "data": {
      "text/plain": [
       "pandas.core.frame.DataFrame"
      ]
     },
     "execution_count": 56,
     "metadata": {},
     "output_type": "execute_result"
    }
   ],
   "source": [
    "df_08 = pd.DataFrame\n",
    "df_08"
   ]
  },
  {
   "cell_type": "code",
   "execution_count": 90,
   "metadata": {},
   "outputs": [
    {
     "data": {
      "text/plain": [
       "array(['2014-04-30T00:00:00.000'], dtype=object)"
      ]
     },
     "execution_count": 90,
     "metadata": {},
     "output_type": "execute_result"
    }
   ],
   "source": [
    "df_2.loc[1:1, ['REPORT_DATE']].values[0]"
   ]
  },
  {
   "cell_type": "code",
   "execution_count": 89,
   "metadata": {},
   "outputs": [
    {
     "data": {
      "text/plain": [
       "'2014-04-30T00:00:00.000'"
      ]
     },
     "execution_count": 89,
     "metadata": {},
     "output_type": "execute_result"
    }
   ],
   "source": [
    "df_2.loc[1:1, ['REPORT_DATE']].values[0][0]"
   ]
  },
  {
   "cell_type": "code",
   "execution_count": 75,
   "metadata": {},
   "outputs": [
    {
     "data": {
      "text/html": [
       "<div>\n",
       "<style scoped>\n",
       "    .dataframe tbody tr th:only-of-type {\n",
       "        vertical-align: middle;\n",
       "    }\n",
       "\n",
       "    .dataframe tbody tr th {\n",
       "        vertical-align: top;\n",
       "    }\n",
       "\n",
       "    .dataframe thead th {\n",
       "        text-align: right;\n",
       "    }\n",
       "</style>\n",
       "<table border=\"1\" class=\"dataframe\">\n",
       "  <thead>\n",
       "    <tr style=\"text-align: right;\">\n",
       "      <th></th>\n",
       "      <th>CRIME_TYPE</th>\n",
       "      <th>REPORT_DATE</th>\n",
       "    </tr>\n",
       "  </thead>\n",
       "  <tbody>\n",
       "    <tr>\n",
       "      <th>1</th>\n",
       "      <td>Assault</td>\n",
       "      <td>2014-04-30T00:00:00.000</td>\n",
       "    </tr>\n",
       "  </tbody>\n",
       "</table>\n",
       "</div>"
      ],
      "text/plain": [
       "  CRIME_TYPE              REPORT_DATE\n",
       "1    Assault  2014-04-30T00:00:00.000"
      ]
     },
     "execution_count": 75,
     "metadata": {},
     "output_type": "execute_result"
    }
   ],
   "source": [
    "df_2.loc[1:1]"
   ]
  },
  {
   "cell_type": "code",
   "execution_count": 78,
   "metadata": {},
   "outputs": [
    {
     "data": {
      "text/plain": [
       "(27125, 2)"
      ]
     },
     "execution_count": 78,
     "metadata": {},
     "output_type": "execute_result"
    }
   ],
   "source": [
    "df_2.shape"
   ]
  },
  {
   "cell_type": "code",
   "execution_count": null,
   "metadata": {},
   "outputs": [],
   "source": [
    "def helper(year):\n",
    "    line = 1\n",
    "    target = \n",
    "\n",
    "for line in df_2:\n",
    "    target = df_2[line, []]\n",
    "    if df_2[line, ['REPORT_DATE']]"
   ]
  },
  {
   "cell_type": "code",
   "execution_count": null,
   "metadata": {},
   "outputs": [],
   "source": []
  },
  {
   "cell_type": "code",
   "execution_count": null,
   "metadata": {},
   "outputs": [],
   "source": []
  },
  {
   "cell_type": "code",
   "execution_count": null,
   "metadata": {},
   "outputs": [],
   "source": []
  },
  {
   "cell_type": "code",
   "execution_count": null,
   "metadata": {},
   "outputs": [],
   "source": []
  },
  {
   "cell_type": "code",
   "execution_count": 39,
   "metadata": {},
   "outputs": [
    {
     "data": {
      "text/plain": [
       "array(['Rape', 'Assault', 'Homicide', 'Robbery', 'Motor Vehicle Theft',\n",
       "       'Burglary', 'Larceny-Theft'], dtype=object)"
      ]
     },
     "execution_count": 39,
     "metadata": {},
     "output_type": "execute_result"
    }
   ],
   "source": [
    "df_2['CRIME_TYPE'].unique()"
   ]
  },
  {
   "cell_type": "code",
   "execution_count": null,
   "metadata": {},
   "outputs": [],
   "source": []
  }
 ],
 "metadata": {
  "kernelspec": {
   "display_name": "Python 3",
   "language": "python",
   "name": "python3"
  },
  "language_info": {
   "codemirror_mode": {
    "name": "ipython",
    "version": 3
   },
   "file_extension": ".py",
   "mimetype": "text/x-python",
   "name": "python",
   "nbconvert_exporter": "python",
   "pygments_lexer": "ipython3",
   "version": "3.7.1"
  }
 },
 "nbformat": 4,
 "nbformat_minor": 2
}
